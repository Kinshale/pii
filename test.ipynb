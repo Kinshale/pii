{
 "cells": [
  {
   "cell_type": "markdown",
   "metadata": {},
   "source": [
    "# Logistic Map"
   ]
  },
  {
   "cell_type": "code",
   "execution_count": null,
   "metadata": {},
   "outputs": [],
   "source": [
    "import numpy as np\n",
    "import matplotlib.pyplot as plt\n",
    "from ipywidgets import interact, FloatSlider\n",
    "from matplotlib.colors import Normalize\n",
    "from matplotlib.cm import ScalarMappable"
   ]
  },
  {
   "cell_type": "code",
   "execution_count": null,
   "metadata": {},
   "outputs": [],
   "source": [
    "def logistic_map(r, x0, n_iter=1000):\n",
    "    \"\"\"Simulate the logistic map: x_{n+1} = r * x_n * (1 - x_n)\"\"\"\n",
    "    x = [x0]\n",
    "    for _ in range(n_iter):\n",
    "        x.append(r * x[-1] * (1 - x[-1]))\n",
    "    return x\n",
    "\n",
    "# r = 4.0 is fully chaotic\n",
    "r_chaos = 4.0  \n",
    "x_chaos = logistic_map(r_chaos, x0=0.1, n_iter=40)\n",
    "\n",
    "plt.figure(figsize=(10, 4))\n",
    "plt.plot(x_chaos, 'k.-')\n",
    "plt.title(f\"Chaotic Logistic Map (r = {r_chaos})\", fontsize=14)\n",
    "plt.xlabel(\"Iteration (n)\"); plt.ylabel(\"x_n\")\n",
    "plt.grid(alpha=0.3)\n",
    "plt.show()"
   ]
  },
  {
   "cell_type": "code",
   "execution_count": null,
   "metadata": {},
   "outputs": [],
   "source": [
    "r_values = np.linspace(2.5, 4.0, 1000)\n",
    "n_last = 100 # Plot last 100 iterations\n",
    "\n",
    "plt.figure(figsize=(10, 6))\n",
    "for r in r_values:\n",
    "    x = 0.5  # Initial condition\n",
    "\n",
    "    # Don't plot the first 100 iterations\n",
    "    for _ in range(100):\n",
    "        x = r * x * (1 - x)\n",
    "    \n",
    "    x_vals = []\n",
    "    \n",
    "    for _ in range(n_last):\n",
    "        x = r * x * (1 - x)\n",
    "        x_vals.append(x)\n",
    "    plt.plot([r] * n_last, x_vals, 'k.', markersize=0.5)\n",
    "\n",
    "plt.title(\"Logistic Map Bifurcation Diagram\", fontsize=14)\n",
    "plt.xlabel(\"Parameter (r)\"); plt.ylabel(\"Long-term x_n\")\n",
    "plt.grid(alpha=0.3)\n",
    "plt.show()"
   ]
  }
 ],
 "metadata": {
  "kernelspec": {
   "display_name": "pii",
   "language": "python",
   "name": "python3"
  },
  "language_info": {
   "name": "python",
   "version": "3.10.16"
  }
 },
 "nbformat": 4,
 "nbformat_minor": 2
}
